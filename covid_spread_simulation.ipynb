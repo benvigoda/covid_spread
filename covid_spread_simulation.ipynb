{
 "cells": [
  {
   "cell_type": "code",
   "execution_count": 1,
   "metadata": {},
   "outputs": [
    {
     "data": {
      "text/html": [
       "<style>.container { width:100% !important; }</style>"
      ],
      "text/plain": [
       "<IPython.core.display.HTML object>"
      ]
     },
     "metadata": {},
     "output_type": "display_data"
    }
   ],
   "source": [
    "from IPython.core.display import display, HTML\n",
    "display(HTML(\"<style>.container { width:100% !important; }</style>\"))"
   ]
  },
  {
   "cell_type": "markdown",
   "metadata": {},
   "source": [
    "# The goal of this simulation is to answer the questions, \"How long will the COVID-19 pandemic last?\" and \"How many people are infected right now in my local area but do not know it?\""
   ]
  },
  {
   "cell_type": "markdown",
   "metadata": {},
   "source": [
    "We are making the code available, because we are not sure we believe this simulation. We want data scientists to critique the assumptions and how the code works to iterate towards the most useful and realistic model we can get.\n",
    "\n",
    "This is a very emotional and human issue.  But the assumptions we put into the model are numbers, and the code is code. So while doing this data science work, it is important to view the code, inputs, and results with a kind of clinical emotional distance.\n",
    "\n",
    "For example, to make mathematical modeling easier, the model assumes that if one person in a household gets sick, so does everyone else in that household. On a personal basis, I hope that is not true for your household.  As a simplified mathematical model, we treat a household where a group of people may be sheltering in place or self-quarantining as if it were a single person.\n",
    "\n",
    "Before we get into the details of the code and the assumptions, the high level conclusion is this: There are two regimes.  In one regime, people are very careful about staying at home and not spreading the disease  The curve spreads out over a 100 day period.  The other regime is where people are a bit less careful.  In this regime, the disease doubles every 4 days in the population.  Since it takes an average of 6.5-7 days to express symptoms, the virus can spread to 4x more people before the people who transmitted it feel any symptoms.\n",
    "\n",
    "\n",
    "Let's talk through the code now.  I have been basing ny numerical assumptions on this Medium article, but the goal of this to create a code artifact that anyone can use to try out their assumptions:  https://medium.com/@tomaspueyo/coronavirus-act-today-or-people-will-die-f4d3d9cd99ca\n",
    "\n",
    "The model assumes that there are two kinds of households, \"home\" and \"moving.\" A \"moving\" household is a household where one or more people in the household have a job where they move around in the community.  This includes people who are delivering food, bagging or boxing food in distribution centers, police, firemen, doctors, nurses, grocery store workers, and so forth. \n",
    "\n",
    "The other kind of household, \"home\", stays in their house, receives deliveries of food or other necessities, and practices social distancing (6+ feet) if they go for a walk outside.  They make decisions like whether to order take-out, whether to treat Amazon or Instacart type deliveries with dilute bleach or let non-perishables with hard surfaces sit for 2 days, etc.  They also decide whether to go see their \"best friend\" once every 10 days.  These are the critical decisions.\n",
    "\n",
    "This split into two kinds of households, is what I see when I look out of my window in Cambridge, MA.  Then I found the paper from the Centre for Mathematical Modelling of Infectious Diseases, London School of Hygiene & Tropical Medicine cited below.  They independently did the same exact thing in their model. \n",
    "\n",
    "You can put whatever assumptions into the model that you want, but here is how I thought about putting in assumptions.  Here is how I thought about the range of pessimistic assumptions versus optimistic assumptions:\n",
    "\n",
    "1 in every 10 days a home person who is incubating the virus visits a friend because they have cabin fever and in 1/1 of those visits transmits the disease.  That measn on average, 1 in every 10 days a given home household spreads the disease to some other home household.  A more optimistic assumption would put this number at 1 in every 100 days.\n",
    "\n",
    "1 in every 5 days a instacart delivery person or a plumber or a cleaning person whatever provides the virus to a home via a surface or a brief failure of social distancing, and 50% of those incidents transmit the disease.  This means probability each day that a mobile household transmits COVID-19 to a home household would be 0.1.  Which would mean that one in ten days a transmission occurs from a given mobile household to some home household they deliver to.  A more optimistic assumption would put this number at 1 in every 100 days that a given moving delivery person or care giver transmmits the desease to one of the homes they help support.\n",
    "\n",
    "I assume that \"home\" households that have symptoms will take very strong precautions not to get mobile workers sick, so there is zero transfer from home_sick to moving.\n",
    "\n",
    "I assume that because the US government has been vague about financial relief for moving workers who don't or cannot go to work, and because many doctors, nurses, food delivery people, and so forth are very dedicated to helping others, 1 out of every 10 mobile workers unfortunately decide to go to work even if they have some symptoms. With a dry cough, they might have 50% chance of infecting a home each day and a 50% chance of infecting another mobile worker each day.  Who knows what those numbers really are.  I just put some in.  BUT, what the model shows is that it doesn't matter what these numbers are unless you are prepared to make them at least 10x more optimistic than this.  There is a critical threshold of mobile workers ignoring their symptoms, where the virus spreads like wildfire.\n",
    "\n",
    "The results are hard to believe so I am looking for people to comb over the code.  What they say right now, is that unless we use the most optimistic assumptions, AND which seem to me to enforce unrealistically draconian constraints on people, the virus doubles in the population every 4 days, no one knows it is happening until an average of 7 days later when they all start to exhibit symptoms, and there is a tremendous spike in hospitalization which completely overwhelm the medical facilities, and the fatality rate is the fatalility rate of a country that does not have any respirators which right now looks to be in the 2-4% range.  4.5M people die in the US in the next 65 days.  The death experience is one of slow asphyxiation, like slowly drowning over a period of 4 days.\n",
    "\n",
    "The effect of control strategies that reduce social mixing on outcomes of the COVID-19 epidemic in Wuhan, China, Kiesha Prem, Yang Liu, Timothy W Russell1, Adam J Kucharski, Rosalind M Eggo, Nicholas Davies, Centre for the Mathematical Modelling of Infectious Diseases COVID-19 Working Group, Mark Jit, Petra Klepac\n",
    "\n"
   ]
  },
  {
   "cell_type": "raw",
   "metadata": {},
   "source": [
    "Ben Vigoda \n",
    "ben@benvigoda.com\n",
    "(617) 308-4169\n",
    "Cambridge, MA, USA\n",
    "\n",
    "Thank you to my friends for doing an initial sanity check of the code with me:\n",
    "Yael Maguire: https://www.linkedin.com/in/yael-maguire-9547343/\n",
    "and Jon Feldman: https://www.linkedin.com/in/jon-feldman-45821217/?originalSubdomain=ca"
   ]
  },
  {
   "cell_type": "code",
   "execution_count": 2,
   "metadata": {},
   "outputs": [],
   "source": [
    "from pprint import pprint\n",
    "import matplotlib.mlab as mlab\n",
    "import matplotlib.pyplot as plt\n",
    "\n",
    "import string\n",
    "\n",
    "import math\n",
    "from math import log\n",
    "from math import exp\n",
    "import random\n",
    "\n",
    "import numpy as np"
   ]
  },
  {
   "cell_type": "markdown",
   "metadata": {},
   "source": [
    "# Simple model for pedagogy"
   ]
  },
  {
   "cell_type": "code",
   "execution_count": 3,
   "metadata": {},
   "outputs": [
    {
     "name": "stdout",
     "output_type": "stream",
     "text": [
      "56815 \n",
      "\n",
      "54595 \n",
      "\n",
      "2274 \n",
      "\n"
     ]
    }
   ],
   "source": [
    "home_incubating_to_home_incubating = 1\n",
    "home_sick_to_home_incubating = 1\n",
    "home_incubating_to_moving_incubating = 0 \n",
    "home_sick_to_moving_incubating = 0\n",
    "\n",
    "home_sick_to_home_dead = 0.04\n",
    "home_sick_to_home_recovered = 0.96\n",
    "moving_sick_to_moving_dead = 0.04\n",
    "moving_sick_to_moving_recovered = 0.96\n",
    "\n",
    "percent_of_recovered_who_do_not_get_reinfected = 0.998\n",
    "total_households = 100000\n",
    "\n",
    "num_days = 200\n",
    "\n",
    "# Starting March 5\n",
    "home_sick = [0, 0, 0, 1, 2, 3, 6, 12, 25, 50] + [0]*(num_days)\n",
    "# big assumption: how many hidden cases corresponded to the visible cases during the same time period:\n",
    "home_incubating = [1, 2, 3, 5, 10, 30, 60, 125, 250, 500] + [0]*(num_days)\n",
    "home_dead = [0]*7 + [0]*(num_days)\n",
    "home_recovered = [0]*7 + [0]*(num_days)\n",
    "\n",
    "\n",
    "for day in range(9, num_days):\n",
    "\n",
    "    home_incubating[day+1] = sum(home_incubating[day-9: day])*home_incubating_to_home_incubating\n",
    "    home_incubating[day+1] += sum(home_sick[day-9: day])*home_sick_to_home_incubating\n",
    "    \n",
    "    # people who have been incubating for 2 to 12 days move to being \"sick,\" with or without symptoms\n",
    "    # FIXME: should we assume a cleanly separated bucket for every asymptomatic incubator becoming a \"sick\" person?\n",
    "    # This model currently assumes that everyone who gets infected, eventually after 12 days moves to a bucket called \"sick\" people\n",
    "    # Over the 10 day period from day 2 to day 12 of incubation, 1/10 of them convert to this sick bucket each day.\n",
    "    home_sick_new = 0\n",
    "    for i in range(2,12):\n",
    "        if (day+1-i >=0):\n",
    "            home_sick_new += home_incubating[day+1-i]/10\n",
    "    home_sick[day+1] = home_sick_new\n",
    "\n",
    "    \n",
    "    # people who have been sick die or recover\n",
    "    if day-11 >= 0:\n",
    "        home_dead[day+1] = home_sick[day-11]*home_sick_to_home_dead\n",
    "        home_recovered[day+1] = home_sick[day-11]*home_sick_to_home_recovered\n",
    "\n",
    "    # we must remove from the population people who are either now recovered or who have died\n",
    "    home_not_yet_infected = total_households - sum(home_dead) - sum(home_recovered)*percent_of_recovered_who_do_not_get_reinfected - sum(home_sick) - sum(home_incubating)\n",
    "    if home_not_yet_infected < 0:\n",
    "        home_not_yet_infected = 0\n",
    "        \n",
    "    if home_incubating[day+1] > home_not_yet_infected:\n",
    "        home_incubating[day+1] = home_not_yet_infected\n",
    "        \n",
    "print(int(sum(home_incubating)), '\\n')\n",
    "print(int(sum(home_recovered)), '\\n')\n",
    "print(int(sum(home_dead)), '\\n')"
   ]
  },
  {
   "cell_type": "markdown",
   "metadata": {},
   "source": [
    "# The goal here is a model that is as simple as possible but no simpler.  "
   ]
  },
  {
   "cell_type": "markdown",
   "metadata": {},
   "source": [
    "It is important not only that the model makes good predictions, but we also need to be able to understand the model so that we can continue to improve it, and understand the assumptions it is making.\n",
    "\n",
    "Since every hour counts to get information to busines and policy leaders via our partners at the World Economic Forum, who can then help influence the behavior of the population to save lives, we decided better to post embarrassingly simple model to the community sooner, and have people collaborate to improve it, rather than hold the model back while working in private to make it perfect. \n",
    "\n",
    "There are already highly expert efforts in London and at Carnegie Mellon working with the WHO and CDC.  They have model code that is not available in the open.  We respect those expert efforts.  Their results may be more accurate, but we have no way of playing with the assumptions of those models or seeing how they arrive at their conclusions.  The intention here is an entirely different approach to the data science.  Our goal here is to leverage the open source data science community.  "
   ]
  },
  {
   "cell_type": "code",
   "execution_count": 4,
   "metadata": {},
   "outputs": [],
   "source": [
    "home_incubating_to_home_incubating = 0.1 \n",
    "moving_incubating_to_home_incubating = 0.01 \n",
    "home_sick_to_home_incubating = 0\n",
    "moving_sick_to_home_incubating = 0.01 \n",
    "\n",
    "home_incubating_to_moving_incubating = 0 \n",
    "moving_incubating_to_moving_incubating = 0.2 \n",
    "home_sick_to_moving_incubating = 0\n",
    "moving_sick_to_moving_incubating = 0.05\n",
    "\n",
    "home_sick_to_home_dead = 0.04\n",
    "home_sick_to_home_recovered = 0.96\n",
    "moving_sick_to_moving_dead = 0.04\n",
    "moving_sick_to_moving_recovered = 0.96\n",
    "\n",
    "percent_of_recovered_who_do_not_get_reinfected = 0.998\n",
    "\n",
    "total_households = 1e5\n",
    "percent_of_households_with_person_moving = 0.25\n",
    "households_moving = total_households*percent_of_households_with_person_moving\n",
    "households_home = total_households*(1-percent_of_households_with_person_moving)\n",
    "\n",
    "num_days = 60\n",
    "\n",
    "# Starting March 5\n",
    "home_incubating = [1, 2, 3, 5, 10, 30, 60, 125, 250, 500] + [0]*(num_days)\n",
    "moving_incubating = [1, 2, 3, 5, 10, 30, 60, 125, 250, 500] + [0]*(num_days)\n",
    "home_sick = [0, 0, 0, 1, 2, 3, 6, 12, 25, 50] + [0]*(num_days)\n",
    "moving_sick = [0, 0, 0, 1, 2, 3, 6, 12, 25, 50]+ [0]*(num_days)\n",
    "home_dead = [0]*7 + [0]*(num_days)\n",
    "moving_dead = [0]*7 + [0]*(num_days)\n",
    "home_recovered = [0]*7 + [0]*(num_days)\n",
    "moving_recovered = [0]*7 + [0]*(num_days)\n",
    "\n",
    "\n",
    "for day in range(9, num_days):\n",
    "\n",
    "    home_incubating[day+1] = sum(home_incubating[day-9: day])*home_incubating_to_home_incubating\n",
    "    home_incubating[day+1] += sum(moving_incubating[day-9: day])*moving_incubating_to_home_incubating\n",
    "    home_incubating[day+1] += sum(home_sick[day-4: day])*home_sick_to_home_incubating\n",
    "    home_incubating[day+1] += sum(moving_sick[day-4: day])*moving_sick_to_home_incubating\n",
    "\n",
    "    moving_incubating[day+1] = sum(home_incubating[day-9: day])*home_incubating_to_moving_incubating\n",
    "    moving_incubating[day+1] += sum(moving_incubating[day-9: day])*moving_incubating_to_moving_incubating\n",
    "    moving_incubating[day+1] += sum(home_sick[day-4: day])*home_sick_to_moving_incubating\n",
    "    moving_incubating[day+1] += sum(moving_sick[day-4: day])*moving_sick_to_moving_incubating\n",
    "\n",
    "    \n",
    "    # people who have been incubating for 2 to 12 days get sick\n",
    "    home_sick_new = 0\n",
    "    moving_sick_new = 0\n",
    "    for i in range(2,12):\n",
    "        if (day+1-i >=0):\n",
    "            home_sick[day+1] += home_incubating[day+1-i]/10\n",
    "            moving_sick[day+1] += moving_incubating[day+1-i]/10\n",
    "    \n",
    "    \n",
    "    # people who have been sick die or recover\n",
    "    if day-11 >= 0:\n",
    "        home_dead[day+1] = home_sick[day-11]*home_sick_to_home_dead\n",
    "        home_recovered[day+1] = home_sick[day-11]*home_sick_to_home_recovered\n",
    "        \n",
    "        moving_dead[day+1] = moving_sick[day-11]*moving_sick_to_moving_dead \n",
    "        moving_recovered[day+1] = moving_sick[day-11]*moving_sick_to_moving_recovered\n",
    "\n",
    "        \n",
    "        \n",
    "    # we must remove from the population people who are either now recovered or who have died\n",
    "    home_not_yet_infected = total_households - sum(home_dead) - sum(home_recovered)*percent_of_recovered_who_do_not_get_reinfected - sum(home_sick) - sum(home_incubating)\n",
    "    if home_not_yet_infected < 0:\n",
    "        home_not_yet_infected = 0\n",
    "        \n",
    "    if home_incubating[day+1] > home_not_yet_infected:\n",
    "        home_incubating[day+1] = home_not_yet_infected\n",
    "        \n",
    "\n",
    "    # we must remove from the population people who are either now recovered or who have died\n",
    "    moving_not_yet_infected = total_households - sum(moving_dead) - sum(moving_recovered)*percent_of_recovered_who_do_not_get_reinfected - sum(moving_sick) - sum(moving_incubating)\n",
    "    if moving_not_yet_infected < 0:\n",
    "        moving_not_yet_infected = 0\n",
    "        \n",
    "    if moving_incubating[day+1] > moving_not_yet_infected:\n",
    "        moving_incubating[day+1] = moving_not_yet_infected"
   ]
  },
  {
   "cell_type": "markdown",
   "metadata": {},
   "source": [
    "# Plotting functions"
   ]
  },
  {
   "cell_type": "code",
   "execution_count": 5,
   "metadata": {},
   "outputs": [
    {
     "name": "stdout",
     "output_type": "stream",
     "text": [
      "number of newly infected people each day\n"
     ]
    },
    {
     "data": {
      "text/plain": [
       "Text(0, 0.5, 'number of households')"
      ]
     },
     "execution_count": 5,
     "metadata": {},
     "output_type": "execute_result"
    },
    {
     "data": {
      "image/png": "[encoded data removed]",
      "text/plain": [
       "<Figure size 432x288 with 1 Axes>"
      ]
     },
     "metadata": {
      "needs_background": "light"
     },
     "output_type": "display_data"
    }
   ],
   "source": [
    "print('number of newly infected people each day')\n",
    "total_incubating = [0]*len(home_incubating)\n",
    "for i in range(len(home_incubating)):\n",
    "    total_incubating [i] = int(home_incubating[i] + moving_incubating[i])\n",
    "# pprint(total_incubating)\n",
    "# print('\\n')\n",
    "\n",
    "x = list(range(len(total_incubating)))\n",
    "\n",
    "fig = plt.figure()\n",
    "plt.plot(x, total_incubating)\n",
    "# plt.plot(x, home_incubating, moving_incubating)\n",
    "fig.suptitle('Number of Newly Infected Each Day With No Symptoms Yet On A Given Day')\n",
    "plt.xlabel('number of days starting March 5, 2020')\n",
    "plt.ylabel('number of households')\n"
   ]
  },
  {
   "cell_type": "code",
   "execution_count": 6,
   "metadata": {},
   "outputs": [
    {
     "data": {
      "text/plain": [
       "Text(0, 0.5, 'number of households')"
      ]
     },
     "execution_count": 6,
     "metadata": {},
     "output_type": "execute_result"
    },
    {
     "data": {
      "image/png": "[encoded data removed]",
      "text/plain": [
       "<Figure size 432x288 with 1 Axes>"
      ]
     },
     "metadata": {
      "needs_background": "light"
     },
     "output_type": "display_data"
    }
   ],
   "source": [
    "# print('number of newly symptomatic people each day')\n",
    "total_sick = [0]*len(home_sick)\n",
    "for i in range(len(home_sick)):\n",
    "    total_sick[i] = int(home_sick[i] + moving_sick[i])\n",
    "# pprint(total_sick)\n",
    "# print('\\n')\n",
    "\n",
    "x = list(range(len(total_sick)))\n",
    "\n",
    "fig = plt.figure()\n",
    "plt.plot(x, total_sick)\n",
    "fig.suptitle('Number of Households Seeing Symptoms For First Time On A Given Day')\n",
    "plt.xlabel('number of days starting March 5, 2020')\n",
    "plt.ylabel('number of households')"
   ]
  },
  {
   "cell_type": "code",
   "execution_count": 7,
   "metadata": {},
   "outputs": [
    {
     "data": {
      "text/plain": [
       "Text(0, 0.5, 'number of households')"
      ]
     },
     "execution_count": 7,
     "metadata": {},
     "output_type": "execute_result"
    },
    {
     "data": {
      "image/png": "[encoded data removed]",
      "text/plain": [
       "<Figure size 432x288 with 1 Axes>"
      ]
     },
     "metadata": {
      "needs_background": "light"
     },
     "output_type": "display_data"
    }
   ],
   "source": [
    "# print('number of newly dead people each day')\n",
    "total_dead = [0]*len(home_dead)\n",
    "for i in range(len(home_dead)):\n",
    "    total_dead[i] = int(home_dead[i] + moving_dead[i])\n",
    "# pprint(total_dead)\n",
    "# print('\\n')\n",
    "\n",
    "x = list(range(len(total_dead)))\n",
    "\n",
    "fig = plt.figure()\n",
    "plt.plot(x, total_dead)\n",
    "fig.suptitle('Number of Households Where Someone Dies On A Given Day')\n",
    "plt.xlabel('number of days starting March 5, 2020')\n",
    "plt.ylabel('number of households')"
   ]
  },
  {
   "cell_type": "code",
   "execution_count": null,
   "metadata": {},
   "outputs": [],
   "source": []
  },
  {
   "cell_type": "code",
   "execution_count": null,
   "metadata": {},
   "outputs": [],
   "source": []
  }
 ],
 "metadata": {
  "kernelspec": {
   "display_name": "code_at_home",
   "language": "python",
   "name": "code_at_home"
  },
  "language_info": {
   "codemirror_mode": {
    "name": "ipython",
    "version": 3
   },
   "file_extension": ".py",
   "mimetype": "text/x-python",
   "name": "python",
   "nbconvert_exporter": "python",
   "pygments_lexer": "ipython3",
   "version": "3.7.3"
  }
 },
 "nbformat": 4,
 "nbformat_minor": 2
}
